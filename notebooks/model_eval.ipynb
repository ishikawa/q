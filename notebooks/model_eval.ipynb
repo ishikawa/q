{
 "cells": [
  {
   "cell_type": "code",
   "execution_count": null,
   "id": "391a731b",
   "metadata": {},
   "outputs": [
    {
     "name": "stderr",
     "output_type": "stream",
     "text": [
      "/Users/takanori.ishikawa/Developer/Workspace/q/.venv/lib/python3.12/site-packages/tqdm/auto.py:21: TqdmWarning: IProgress not found. Please update jupyter and ipywidgets. See https://ipywidgets.readthedocs.io/en/stable/user_install.html\n",
      "  from .autonotebook import tqdm as notebook_tqdm\n"
     ]
    }
   ],
   "source": [
    "import lm_eval\n",
    "from lm_eval.utils import setup_logging"
   ]
  },
  {
   "cell_type": "code",
   "execution_count": null,
   "id": "ab8ddc7e",
   "metadata": {},
   "outputs": [],
   "source": [
    "from q.eval import QLM\n",
    "lm_obj = QLM()"
   ]
  },
  {
   "cell_type": "code",
   "execution_count": 5,
   "id": "14dc79ec",
   "metadata": {},
   "outputs": [
    {
     "name": "stderr",
     "output_type": "stream",
     "text": [
      "Overwriting default num_fewshot of hellaswag from None to 0\n",
      "100%|██████████| 10042/10042 [00:01<00:00, 8242.13it/s]\n",
      "Running loglikelihood requests: 100%|██████████| 40168/40168 [24:44<00:00, 27.06it/s]\n"
     ]
    }
   ],
   "source": [
    "# indexes all tasks from the `lm_eval/tasks` subdirectory.\n",
    "# Alternatively, you can set `TaskManager(include_path=\"path/to/my/custom/task/configs\")`\n",
    "# to include a set of tasks in a separate directory.\n",
    "task_manager = lm_eval.tasks.TaskManager()\n",
    "\n",
    "# Setting `task_manager` to the one above is optional and should generally be done\n",
    "# if you want to include tasks from paths other than ones in `lm_eval/tasks`.\n",
    "# `simple_evaluate` will instantiate its own task_manager if it is set to None here.\n",
    "results = lm_eval.simple_evaluate( # call simple_evaluate\n",
    "    model=lm_obj,\n",
    "    tasks=[\"hellaswag\"],\n",
    "    num_fewshot=0,\n",
    "    task_manager=task_manager,\n",
    ")"
   ]
  },
  {
   "cell_type": "code",
   "execution_count": 11,
   "id": "c96b53cc",
   "metadata": {},
   "outputs": [
    {
     "data": {
      "text/plain": [
       "{'hellaswag': {'alias': 'hellaswag',\n",
       "  'acc,none': 0.2891854212308305,\n",
       "  'acc_stderr,none': 0.004524575892953094,\n",
       "  'acc_norm,none': 0.31139215295757816,\n",
       "  'acc_norm_stderr,none': 0.004621163476949437}}"
      ]
     },
     "execution_count": 11,
     "metadata": {},
     "output_type": "execute_result"
    }
   ],
   "source": [
    "results[\"results\"]"
   ]
  }
 ],
 "metadata": {
  "kernelspec": {
   "display_name": ".venv",
   "language": "python",
   "name": "python3"
  },
  "language_info": {
   "codemirror_mode": {
    "name": "ipython",
    "version": 3
   },
   "file_extension": ".py",
   "mimetype": "text/x-python",
   "name": "python",
   "nbconvert_exporter": "python",
   "pygments_lexer": "ipython3",
   "version": "3.12.7"
  }
 },
 "nbformat": 4,
 "nbformat_minor": 5
}
